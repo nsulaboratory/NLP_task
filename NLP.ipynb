{
 "cells": [
  {
   "cell_type": "code",
   "execution_count": 111,
   "metadata": {
    "collapsed": true,
    "pycharm": {
     "name": "#%%\n"
    }
   },
   "outputs": [
    {
     "name": "stderr",
     "output_type": "stream",
     "text": [
      "[nltk_data] Downloading package punkt to\n",
      "[nltk_data]     C:\\Users\\ilyin\\AppData\\Roaming\\nltk_data...\n",
      "[nltk_data]   Package punkt is already up-to-date!\n",
      "[nltk_data] Downloading package wordnet to\n",
      "[nltk_data]     C:\\Users\\ilyin\\AppData\\Roaming\\nltk_data...\n",
      "[nltk_data]   Package wordnet is already up-to-date!\n",
      "[nltk_data] Downloading package omw-1.4 to\n",
      "[nltk_data]     C:\\Users\\ilyin\\AppData\\Roaming\\nltk_data...\n",
      "[nltk_data]   Package omw-1.4 is already up-to-date!\n"
     ]
    },
    {
     "data": {
      "text/plain": "True"
     },
     "execution_count": 111,
     "metadata": {},
     "output_type": "execute_result"
    }
   ],
   "source": [
    "# Import Libraries\n",
    "\n",
    "import pandas as pd\n",
    "import nltk\n",
    "import pymorphy2\n",
    "nltk.download('punkt')\n",
    "nltk.download('wordnet')\n",
    "nltk.download('omw-1.4')"
   ]
  },
  {
   "cell_type": "code",
   "execution_count": 112,
   "outputs": [],
   "source": [
    "df = pd.read_csv('test_data.csv')\n",
    "\n",
    "greeting = ['здравствуйте','добрый','доброе','доброго','привет','здрасте','приветствую']\n",
    "goodbye = ['досвидания','до свидания','хорошего','хороших','доброго','свидания','встречи','связи']\n",
    "present = ['меня','зовут','имя','это','менеджер']\n"
   ],
   "metadata": {
    "collapsed": false,
    "pycharm": {
     "name": "#%%\n"
    }
   }
  },
  {
   "cell_type": "code",
   "execution_count": 113,
   "outputs": [],
   "source": [
    "item_a = []\n",
    "item_b = []\n",
    "item_c = []\n",
    "item_d = []\n",
    "item_e = []\n",
    "item_f = []\n",
    "dialogs = []\n",
    "\n",
    "for i in range(df.loc[len(df)-1, \"dlg_id\"]+1):\n",
    "    names = []\n",
    "    dialogs.append(str(i+1))\n",
    "    prob_thresh = 0.4\n",
    "    morph = pymorphy2.MorphAnalyzer()\n",
    "\n",
    "    dialog = df[df[\"dlg_id\"] == i]\n",
    "    manager = dialog[dialog[\"role\"] == 'manager']\n",
    "\n",
    "    total_list = []\n",
    "\n",
    "    replicas = []\n",
    "    full_text = ''\n",
    "    text = manager.text.to_list()\n",
    "    for k in text:\n",
    "        replic = k.lower()\n",
    "        total_list += replic.split(' ')\n",
    "        replicas.append(replic.split(' '))\n",
    "        full_text += replic\n",
    "        full_text += ' '\n",
    "\n",
    "    # Finding greeting\n",
    "\n",
    "    for r in range(5):\n",
    "        crossover = list(set(replicas[r]) & set(greeting))\n",
    "        if len(crossover) > 0:\n",
    "            item_a.append(text[r])\n",
    "            break\n",
    "        if r == 4 and len(crossover) == 0:\n",
    "            item_a.append('Отсутствует')\n",
    "\n",
    "    # Present\n",
    "\n",
    "    names = []\n",
    "    for word in nltk.word_tokenize(full_text):\n",
    "        for p in morph.parse(word):\n",
    "            if 'Name' in p.tag and p.score >= prob_thresh:\n",
    "                names.append(word)\n",
    "    for j in range(len(replicas)):\n",
    "        list1 = list(set(replicas[j]) & set(names))\n",
    "        list2 = list(set(replicas[j]) & set(present))\n",
    "        if len(list1) > 0 and len(list2) > 0:\n",
    "            item_b.append(text[j])\n",
    "\n",
    "            # Manager's name\n",
    "            indexes1 = []\n",
    "            indexes2 = []\n",
    "            for l1 in list1:\n",
    "                indexes1.append(replicas[j].index(l1))\n",
    "            for l2 in list2:\n",
    "                indexes2.append(replicas[j].index(l2))\n",
    "\n",
    "            for n in indexes1:\n",
    "                post_check1 = 0\n",
    "                post_check2 = 0\n",
    "                for t in indexes2:\n",
    "                    if n > t:\n",
    "                        post_check1 +=1\n",
    "                    if abs(n-t) < 2:\n",
    "                        post_check2 +=1\n",
    "                if post_check1 > 0 and post_check2 > 0:\n",
    "                    item_c.append(str(replicas[j][n]))\n",
    "\n",
    "    if len(item_b) != len(item_a):\n",
    "        item_b.append('Отсутствует')\n",
    "    if len(item_c) != len(item_a):\n",
    "        item_c.append('Отсутствует')\n",
    "\n",
    "    # Company's name\n",
    "    company_name = ''\n",
    "    global check1\n",
    "    check1 = 0\n",
    "    try:\n",
    "        global namelen\n",
    "        namelen = 1\n",
    "        number = total_list.index('компания')\n",
    "        company_name += total_list[number+1]\n",
    "        company_name += ' '\n",
    "        while check1 == 0:\n",
    "            if str(morph.parse(total_list[number+1+namelen])[0].tag.POS) == 'NOUN' and morph.parse(total_list[number+1+namelen])[0].score >= 0.35:\n",
    "                company_name += total_list[number+1+namelen]\n",
    "                company_name += ' '\n",
    "                namelen += 1\n",
    "            elif morph.parse(total_list[number+1+namelen])[0].score < 0.3:\n",
    "                company_name += total_list[number+1+namelen]\n",
    "                company_name += ' '\n",
    "                namelen += 1\n",
    "            elif str(morph.parse(total_list[number+1+namelen])[0].tag.POS) == 'CONJ':\n",
    "                company_name += total_list[number+1+namelen]\n",
    "                company_name += ' '\n",
    "                namelen += 1\n",
    "            elif str(morph.parse(total_list[number+1+namelen])[0].tag.POS) == 'None':\n",
    "                company_name += total_list[number+1+namelen]\n",
    "                company_name += ' '\n",
    "                namelen += 1\n",
    "            else:\n",
    "                check1 = 1\n",
    "        else:\n",
    "            namelen = 1\n",
    "            item_d.append(company_name)\n",
    "    except:\n",
    "        item_d.append('Отсутствует')\n",
    "\n",
    "    # Finding bye\n",
    "    len_dialog = len(replicas)\n",
    "    for s in range(len_dialog-3,len_dialog):\n",
    "        crossover1 = list(set(replicas[s]) & set(goodbye))\n",
    "        if len(crossover1) > 0:\n",
    "            item_e.append(text[s])\n",
    "            break\n",
    "        if s == len_dialog-1 and len(crossover1) == 0:\n",
    "            item_e.append('Отсутствует')\n",
    "\n",
    "for b in range(len(item_a)):\n",
    "    if item_a[b] != 'Отсутствует' and  item_e[b] != 'Отсутствует':\n",
    "        item_f.append(True)\n",
    "    else:\n",
    "        item_f.append(False)\n"
   ],
   "metadata": {
    "collapsed": false,
    "pycharm": {
     "name": "#%%\n"
    }
   }
  },
  {
   "cell_type": "code",
   "execution_count": 114,
   "outputs": [],
   "source": [
    "df_itog = pd.DataFrame({'Диалог':dialogs,\n",
    "                        'Приветствием':item_a,\n",
    "                        'Реплики, где менеджер представил себя':item_b,\n",
    "                        'Имя менеджера':item_c,\n",
    "                        'Название компании':item_d,\n",
    "                        'Прощание':item_e,\n",
    "                        'Требование к менеджеру':item_f})"
   ],
   "metadata": {
    "collapsed": false,
    "pycharm": {
     "name": "#%%\n"
    }
   }
  },
  {
   "cell_type": "markdown",
   "source": [],
   "metadata": {
    "collapsed": false,
    "pycharm": {
     "name": "#%% md\n"
    }
   }
  }
 ],
 "metadata": {
  "kernelspec": {
   "display_name": "Python 3",
   "language": "python",
   "name": "python3"
  },
  "language_info": {
   "codemirror_mode": {
    "name": "ipython",
    "version": 2
   },
   "file_extension": ".py",
   "mimetype": "text/x-python",
   "name": "python",
   "nbconvert_exporter": "python",
   "pygments_lexer": "ipython2",
   "version": "2.7.6"
  }
 },
 "nbformat": 4,
 "nbformat_minor": 0
}